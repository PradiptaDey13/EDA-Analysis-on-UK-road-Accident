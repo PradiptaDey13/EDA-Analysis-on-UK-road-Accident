{
 "cells": [
  {
   "cell_type": "code",
   "execution_count": 1,
   "id": "d8bebd15",
   "metadata": {},
   "outputs": [],
   "source": [
    "import pandas as pd\n",
    "import numpy as np \n",
    "import matplotlib.pyplot as plt \n",
    "import seaborn as sns\n"
   ]
  },
  {
   "cell_type": "code",
   "execution_count": 2,
   "id": "2cde5724",
   "metadata": {},
   "outputs": [],
   "source": [
    "df = pd.read_csv(\"Road Accident Data.csv\")\n",
    "\n"
   ]
  },
  {
   "cell_type": "code",
   "execution_count": 3,
   "id": "870c33e6",
   "metadata": {},
   "outputs": [
    {
     "data": {
      "text/html": [
       "<div>\n",
       "<style scoped>\n",
       "    .dataframe tbody tr th:only-of-type {\n",
       "        vertical-align: middle;\n",
       "    }\n",
       "\n",
       "    .dataframe tbody tr th {\n",
       "        vertical-align: top;\n",
       "    }\n",
       "\n",
       "    .dataframe thead th {\n",
       "        text-align: right;\n",
       "    }\n",
       "</style>\n",
       "<table border=\"1\" class=\"dataframe\">\n",
       "  <thead>\n",
       "    <tr style=\"text-align: right;\">\n",
       "      <th></th>\n",
       "      <th>All Insites</th>\n",
       "      <th>Accident Date</th>\n",
       "      <th>Month</th>\n",
       "      <th>Year</th>\n",
       "      <th>Day_of_Week</th>\n",
       "      <th>Junction_Control</th>\n",
       "      <th>Junction_Detail</th>\n",
       "      <th>Accident_Severity</th>\n",
       "      <th>Latitude</th>\n",
       "      <th>Light_Conditions</th>\n",
       "      <th>...</th>\n",
       "      <th>Number_of_Casualties</th>\n",
       "      <th>Number_of_Vehicles</th>\n",
       "      <th>Police_Force</th>\n",
       "      <th>Road_Surface_Conditions</th>\n",
       "      <th>Road_Type</th>\n",
       "      <th>Speed_limit</th>\n",
       "      <th>Time</th>\n",
       "      <th>Urban_or_Rural_Area</th>\n",
       "      <th>Weather_Conditions</th>\n",
       "      <th>Vehicle_Type</th>\n",
       "    </tr>\n",
       "  </thead>\n",
       "  <tbody>\n",
       "    <tr>\n",
       "      <th>0</th>\n",
       "      <td>200901BS70001</td>\n",
       "      <td>1/1/2021</td>\n",
       "      <td>January</td>\n",
       "      <td>2021</td>\n",
       "      <td>Thursday</td>\n",
       "      <td>Give way or uncontrolled</td>\n",
       "      <td>T or staggered junction</td>\n",
       "      <td>Serious</td>\n",
       "      <td>51.512273</td>\n",
       "      <td>Daylight</td>\n",
       "      <td>...</td>\n",
       "      <td>1</td>\n",
       "      <td>2</td>\n",
       "      <td>Metropolitan Police</td>\n",
       "      <td>Dry</td>\n",
       "      <td>One way street</td>\n",
       "      <td>30</td>\n",
       "      <td>15:11</td>\n",
       "      <td>Urban</td>\n",
       "      <td>Fine no high winds</td>\n",
       "      <td>Car</td>\n",
       "    </tr>\n",
       "    <tr>\n",
       "      <th>1</th>\n",
       "      <td>200901BS70002</td>\n",
       "      <td>1/5/2021</td>\n",
       "      <td>January</td>\n",
       "      <td>2021</td>\n",
       "      <td>Monday</td>\n",
       "      <td>Give way or uncontrolled</td>\n",
       "      <td>Crossroads</td>\n",
       "      <td>Serious</td>\n",
       "      <td>51.514399</td>\n",
       "      <td>Daylight</td>\n",
       "      <td>...</td>\n",
       "      <td>11</td>\n",
       "      <td>2</td>\n",
       "      <td>Metropolitan Police</td>\n",
       "      <td>Wet or damp</td>\n",
       "      <td>Single carriageway</td>\n",
       "      <td>30</td>\n",
       "      <td>10:59</td>\n",
       "      <td>Urban</td>\n",
       "      <td>Fine no high winds</td>\n",
       "      <td>Taxi/Private hire car</td>\n",
       "    </tr>\n",
       "    <tr>\n",
       "      <th>2</th>\n",
       "      <td>200901BS70003</td>\n",
       "      <td>1/4/2021</td>\n",
       "      <td>January</td>\n",
       "      <td>2021</td>\n",
       "      <td>Sunday</td>\n",
       "      <td>Give way or uncontrolled</td>\n",
       "      <td>T or staggered junction</td>\n",
       "      <td>Slight</td>\n",
       "      <td>51.486668</td>\n",
       "      <td>Daylight</td>\n",
       "      <td>...</td>\n",
       "      <td>1</td>\n",
       "      <td>2</td>\n",
       "      <td>Metropolitan Police</td>\n",
       "      <td>Dry</td>\n",
       "      <td>Single carriageway</td>\n",
       "      <td>30</td>\n",
       "      <td>14:19</td>\n",
       "      <td>Urban</td>\n",
       "      <td>Fine no high winds</td>\n",
       "      <td>Taxi/Private hire car</td>\n",
       "    </tr>\n",
       "    <tr>\n",
       "      <th>3</th>\n",
       "      <td>200901BS70004</td>\n",
       "      <td>1/5/2021</td>\n",
       "      <td>January</td>\n",
       "      <td>2021</td>\n",
       "      <td>Monday</td>\n",
       "      <td>Auto traffic signal</td>\n",
       "      <td>T or staggered junction</td>\n",
       "      <td>Serious</td>\n",
       "      <td>51.507804</td>\n",
       "      <td>Daylight</td>\n",
       "      <td>...</td>\n",
       "      <td>1</td>\n",
       "      <td>2</td>\n",
       "      <td>Metropolitan Police</td>\n",
       "      <td>Frost or ice</td>\n",
       "      <td>Single carriageway</td>\n",
       "      <td>30</td>\n",
       "      <td>8:10</td>\n",
       "      <td>Urban</td>\n",
       "      <td>Other</td>\n",
       "      <td>Motorcycle over 500cc</td>\n",
       "    </tr>\n",
       "    <tr>\n",
       "      <th>4</th>\n",
       "      <td>200901BS70005</td>\n",
       "      <td>1/6/2021</td>\n",
       "      <td>January</td>\n",
       "      <td>2021</td>\n",
       "      <td>Tuesday</td>\n",
       "      <td>Auto traffic signal</td>\n",
       "      <td>Crossroads</td>\n",
       "      <td>Serious</td>\n",
       "      <td>51.482076</td>\n",
       "      <td>Darkness - lights lit</td>\n",
       "      <td>...</td>\n",
       "      <td>1</td>\n",
       "      <td>2</td>\n",
       "      <td>Metropolitan Police</td>\n",
       "      <td>Dry</td>\n",
       "      <td>Single carriageway</td>\n",
       "      <td>30</td>\n",
       "      <td>17:25</td>\n",
       "      <td>Urban</td>\n",
       "      <td>Fine no high winds</td>\n",
       "      <td>Car</td>\n",
       "    </tr>\n",
       "    <tr>\n",
       "      <th>...</th>\n",
       "      <td>...</td>\n",
       "      <td>...</td>\n",
       "      <td>...</td>\n",
       "      <td>...</td>\n",
       "      <td>...</td>\n",
       "      <td>...</td>\n",
       "      <td>...</td>\n",
       "      <td>...</td>\n",
       "      <td>...</td>\n",
       "      <td>...</td>\n",
       "      <td>...</td>\n",
       "      <td>...</td>\n",
       "      <td>...</td>\n",
       "      <td>...</td>\n",
       "      <td>...</td>\n",
       "      <td>...</td>\n",
       "      <td>...</td>\n",
       "      <td>...</td>\n",
       "      <td>...</td>\n",
       "      <td>...</td>\n",
       "      <td>...</td>\n",
       "    </tr>\n",
       "    <tr>\n",
       "      <th>13078</th>\n",
       "      <td>200901QK50640</td>\n",
       "      <td>11/3/2021</td>\n",
       "      <td>November</td>\n",
       "      <td>2021</td>\n",
       "      <td>Tuesday</td>\n",
       "      <td>Give way or uncontrolled</td>\n",
       "      <td>T or staggered junction</td>\n",
       "      <td>Slight</td>\n",
       "      <td>51.553021</td>\n",
       "      <td>Daylight</td>\n",
       "      <td>...</td>\n",
       "      <td>1</td>\n",
       "      <td>3</td>\n",
       "      <td>Metropolitan Police</td>\n",
       "      <td>Dry</td>\n",
       "      <td>Single carriageway</td>\n",
       "      <td>30</td>\n",
       "      <td>18:40</td>\n",
       "      <td>Urban</td>\n",
       "      <td>Fine no high winds</td>\n",
       "      <td>Car</td>\n",
       "    </tr>\n",
       "    <tr>\n",
       "      <th>13079</th>\n",
       "      <td>200901QK50641</td>\n",
       "      <td>11/10/2021</td>\n",
       "      <td>November</td>\n",
       "      <td>2021</td>\n",
       "      <td>Tuesday</td>\n",
       "      <td>Data missing or out of range</td>\n",
       "      <td>Not at junction or within 20 metres</td>\n",
       "      <td>Slight</td>\n",
       "      <td>51.552085</td>\n",
       "      <td>Daylight</td>\n",
       "      <td>...</td>\n",
       "      <td>1</td>\n",
       "      <td>1</td>\n",
       "      <td>Metropolitan Police</td>\n",
       "      <td>Dry</td>\n",
       "      <td>Single carriageway</td>\n",
       "      <td>30</td>\n",
       "      <td>19:40</td>\n",
       "      <td>Urban</td>\n",
       "      <td>Fine no high winds</td>\n",
       "      <td>Car</td>\n",
       "    </tr>\n",
       "    <tr>\n",
       "      <th>13080</th>\n",
       "      <td>200901QK50642</td>\n",
       "      <td>11/19/2021</td>\n",
       "      <td>November</td>\n",
       "      <td>2021</td>\n",
       "      <td>Thursday</td>\n",
       "      <td>Data missing or out of range</td>\n",
       "      <td>Not at junction or within 20 metres</td>\n",
       "      <td>Slight</td>\n",
       "      <td>51.560697</td>\n",
       "      <td>Daylight</td>\n",
       "      <td>...</td>\n",
       "      <td>1</td>\n",
       "      <td>2</td>\n",
       "      <td>Metropolitan Police</td>\n",
       "      <td>Dry</td>\n",
       "      <td>Single carriageway</td>\n",
       "      <td>30</td>\n",
       "      <td>15:48</td>\n",
       "      <td>Urban</td>\n",
       "      <td>Fine no high winds</td>\n",
       "      <td>Car</td>\n",
       "    </tr>\n",
       "    <tr>\n",
       "      <th>13081</th>\n",
       "      <td>200901QK50643</td>\n",
       "      <td>11/12/2021</td>\n",
       "      <td>November</td>\n",
       "      <td>2021</td>\n",
       "      <td>Thursday</td>\n",
       "      <td>Give way or uncontrolled</td>\n",
       "      <td>Crossroads</td>\n",
       "      <td>Slight</td>\n",
       "      <td>51.585821</td>\n",
       "      <td>Darkness - lights lit</td>\n",
       "      <td>...</td>\n",
       "      <td>1</td>\n",
       "      <td>2</td>\n",
       "      <td>Metropolitan Police</td>\n",
       "      <td>Dry</td>\n",
       "      <td>Single carriageway</td>\n",
       "      <td>30</td>\n",
       "      <td>22:26</td>\n",
       "      <td>Urban</td>\n",
       "      <td>Fine no high winds</td>\n",
       "      <td>Car</td>\n",
       "    </tr>\n",
       "    <tr>\n",
       "      <th>13082</th>\n",
       "      <td>200901QK50644</td>\n",
       "      <td>11/11/2021</td>\n",
       "      <td>November</td>\n",
       "      <td>2021</td>\n",
       "      <td>Wednesday</td>\n",
       "      <td>Give way or uncontrolled</td>\n",
       "      <td>T or staggered junction</td>\n",
       "      <td>Slight</td>\n",
       "      <td>51.561200</td>\n",
       "      <td>Daylight</td>\n",
       "      <td>...</td>\n",
       "      <td>1</td>\n",
       "      <td>1</td>\n",
       "      <td>Metropolitan Police</td>\n",
       "      <td>Dry</td>\n",
       "      <td>Single carriageway</td>\n",
       "      <td>30</td>\n",
       "      <td>11:00</td>\n",
       "      <td>Urban</td>\n",
       "      <td>Fine no high winds</td>\n",
       "      <td>Car</td>\n",
       "    </tr>\n",
       "  </tbody>\n",
       "</table>\n",
       "<p>13083 rows × 23 columns</p>\n",
       "</div>"
      ],
      "text/plain": [
       "         All Insites Accident Date     Month  Year Day_of_Week  \\\n",
       "0      200901BS70001      1/1/2021   January  2021    Thursday   \n",
       "1      200901BS70002      1/5/2021   January  2021      Monday   \n",
       "2      200901BS70003      1/4/2021   January  2021      Sunday   \n",
       "3      200901BS70004      1/5/2021   January  2021      Monday   \n",
       "4      200901BS70005      1/6/2021   January  2021     Tuesday   \n",
       "...              ...           ...       ...   ...         ...   \n",
       "13078  200901QK50640     11/3/2021  November  2021     Tuesday   \n",
       "13079  200901QK50641    11/10/2021  November  2021     Tuesday   \n",
       "13080  200901QK50642    11/19/2021  November  2021    Thursday   \n",
       "13081  200901QK50643    11/12/2021  November  2021    Thursday   \n",
       "13082  200901QK50644    11/11/2021  November  2021   Wednesday   \n",
       "\n",
       "                   Junction_Control                      Junction_Detail  \\\n",
       "0          Give way or uncontrolled              T or staggered junction   \n",
       "1          Give way or uncontrolled                           Crossroads   \n",
       "2          Give way or uncontrolled              T or staggered junction   \n",
       "3               Auto traffic signal              T or staggered junction   \n",
       "4               Auto traffic signal                           Crossroads   \n",
       "...                             ...                                  ...   \n",
       "13078      Give way or uncontrolled              T or staggered junction   \n",
       "13079  Data missing or out of range  Not at junction or within 20 metres   \n",
       "13080  Data missing or out of range  Not at junction or within 20 metres   \n",
       "13081      Give way or uncontrolled                           Crossroads   \n",
       "13082      Give way or uncontrolled              T or staggered junction   \n",
       "\n",
       "      Accident_Severity   Latitude       Light_Conditions  ...  \\\n",
       "0               Serious  51.512273               Daylight  ...   \n",
       "1               Serious  51.514399               Daylight  ...   \n",
       "2                Slight  51.486668               Daylight  ...   \n",
       "3               Serious  51.507804               Daylight  ...   \n",
       "4               Serious  51.482076  Darkness - lights lit  ...   \n",
       "...                 ...        ...                    ...  ...   \n",
       "13078            Slight  51.553021               Daylight  ...   \n",
       "13079            Slight  51.552085               Daylight  ...   \n",
       "13080            Slight  51.560697               Daylight  ...   \n",
       "13081            Slight  51.585821  Darkness - lights lit  ...   \n",
       "13082            Slight  51.561200               Daylight  ...   \n",
       "\n",
       "      Number_of_Casualties Number_of_Vehicles         Police_Force  \\\n",
       "0                        1                  2  Metropolitan Police   \n",
       "1                       11                  2  Metropolitan Police   \n",
       "2                        1                  2  Metropolitan Police   \n",
       "3                        1                  2  Metropolitan Police   \n",
       "4                        1                  2  Metropolitan Police   \n",
       "...                    ...                ...                  ...   \n",
       "13078                    1                  3  Metropolitan Police   \n",
       "13079                    1                  1  Metropolitan Police   \n",
       "13080                    1                  2  Metropolitan Police   \n",
       "13081                    1                  2  Metropolitan Police   \n",
       "13082                    1                  1  Metropolitan Police   \n",
       "\n",
       "       Road_Surface_Conditions           Road_Type Speed_limit   Time  \\\n",
       "0                          Dry      One way street          30  15:11   \n",
       "1                  Wet or damp  Single carriageway          30  10:59   \n",
       "2                          Dry  Single carriageway          30  14:19   \n",
       "3                 Frost or ice  Single carriageway          30   8:10   \n",
       "4                          Dry  Single carriageway          30  17:25   \n",
       "...                        ...                 ...         ...    ...   \n",
       "13078                      Dry  Single carriageway          30  18:40   \n",
       "13079                      Dry  Single carriageway          30  19:40   \n",
       "13080                      Dry  Single carriageway          30  15:48   \n",
       "13081                      Dry  Single carriageway          30  22:26   \n",
       "13082                      Dry  Single carriageway          30  11:00   \n",
       "\n",
       "      Urban_or_Rural_Area  Weather_Conditions           Vehicle_Type  \n",
       "0                   Urban  Fine no high winds                    Car  \n",
       "1                   Urban  Fine no high winds  Taxi/Private hire car  \n",
       "2                   Urban  Fine no high winds  Taxi/Private hire car  \n",
       "3                   Urban               Other  Motorcycle over 500cc  \n",
       "4                   Urban  Fine no high winds                    Car  \n",
       "...                   ...                 ...                    ...  \n",
       "13078               Urban  Fine no high winds                    Car  \n",
       "13079               Urban  Fine no high winds                    Car  \n",
       "13080               Urban  Fine no high winds                    Car  \n",
       "13081               Urban  Fine no high winds                    Car  \n",
       "13082               Urban  Fine no high winds                    Car  \n",
       "\n",
       "[13083 rows x 23 columns]"
      ]
     },
     "execution_count": 3,
     "metadata": {},
     "output_type": "execute_result"
    }
   ],
   "source": [
    "df"
   ]
  },
  {
   "cell_type": "markdown",
   "id": "1b74fd2b",
   "metadata": {},
   "source": [
    "# Cleaning and Null Handling"
   ]
  },
  {
   "cell_type": "code",
   "execution_count": 4,
   "id": "fcf0eedd",
   "metadata": {},
   "outputs": [
    {
     "data": {
      "text/plain": [
       "All Insites                    object\n",
       "Accident Date                  object\n",
       "Month                          object\n",
       "Year                            int64\n",
       "Day_of_Week                    object\n",
       "Junction_Control               object\n",
       "Junction_Detail                object\n",
       "Accident_Severity              object\n",
       "Latitude                      float64\n",
       "Light_Conditions               object\n",
       "Local_Authority_(District)     object\n",
       "Carriageway_Hazards            object\n",
       "Longitude                     float64\n",
       "Number_of_Casualties            int64\n",
       "Number_of_Vehicles              int64\n",
       "Police_Force                   object\n",
       "Road_Surface_Conditions        object\n",
       "Road_Type                      object\n",
       "Speed_limit                     int64\n",
       "Time                           object\n",
       "Urban_or_Rural_Area            object\n",
       "Weather_Conditions             object\n",
       "Vehicle_Type                   object\n",
       "dtype: object"
      ]
     },
     "execution_count": 4,
     "metadata": {},
     "output_type": "execute_result"
    }
   ],
   "source": [
    "df.dtypes\n"
   ]
  },
  {
   "cell_type": "code",
   "execution_count": 5,
   "id": "b5d0e36f",
   "metadata": {},
   "outputs": [
    {
     "data": {
      "text/plain": [
       "All Insites                       0\n",
       "Accident Date                     0\n",
       "Month                             0\n",
       "Year                              0\n",
       "Day_of_Week                       0\n",
       "Junction_Control                  0\n",
       "Junction_Detail                   0\n",
       "Accident_Severity                 0\n",
       "Latitude                          0\n",
       "Light_Conditions                  0\n",
       "Local_Authority_(District)        0\n",
       "Carriageway_Hazards           12981\n",
       "Longitude                         0\n",
       "Number_of_Casualties              0\n",
       "Number_of_Vehicles                0\n",
       "Police_Force                      0\n",
       "Road_Surface_Conditions           0\n",
       "Road_Type                         4\n",
       "Speed_limit                       0\n",
       "Time                              0\n",
       "Urban_or_Rural_Area               0\n",
       "Weather_Conditions               59\n",
       "Vehicle_Type                      0\n",
       "dtype: int64"
      ]
     },
     "execution_count": 5,
     "metadata": {},
     "output_type": "execute_result"
    }
   ],
   "source": [
    "df.isnull().sum()\n"
   ]
  },
  {
   "cell_type": "code",
   "execution_count": 6,
   "id": "f254b0b9",
   "metadata": {
    "scrolled": true
   },
   "outputs": [
    {
     "data": {
      "text/plain": [
       "(13083, 23)"
      ]
     },
     "execution_count": 6,
     "metadata": {},
     "output_type": "execute_result"
    }
   ],
   "source": [
    "df.shape"
   ]
  },
  {
   "cell_type": "code",
   "execution_count": 7,
   "id": "d543c72f",
   "metadata": {},
   "outputs": [],
   "source": [
    "df[\"Road_Surface_Conditions\"]=df[\"Road_Surface_Conditions\"].fillna(df[\"Road_Surface_Conditions\"].mode()[0])\n",
    "df[\"Road_Type\"]=df[\"Road_Type\"].fillna(df[\"Road_Type\"].mode()[0])\n",
    "df[\"Weather_Conditions\"]=df[\"Weather_Conditions\"].fillna(df[\"Weather_Conditions\"].mode()[0])"
   ]
  },
  {
   "cell_type": "code",
   "execution_count": 8,
   "id": "5a37c300",
   "metadata": {},
   "outputs": [],
   "source": [
    "df['Time'].dropna(inplace=True)"
   ]
  },
  {
   "cell_type": "code",
   "execution_count": 9,
   "id": "21b1bfda",
   "metadata": {},
   "outputs": [],
   "source": [
    "df = df.drop([\"Carriageway_Hazards\", \"All Insites\",\"Accident Date\"], axis=1)\n",
    "\n",
    "\n",
    "           "
   ]
  },
  {
   "cell_type": "code",
   "execution_count": 10,
   "id": "256f38ee",
   "metadata": {},
   "outputs": [
    {
     "data": {
      "text/plain": [
       "Month                         0\n",
       "Year                          0\n",
       "Day_of_Week                   0\n",
       "Junction_Control              0\n",
       "Junction_Detail               0\n",
       "Accident_Severity             0\n",
       "Latitude                      0\n",
       "Light_Conditions              0\n",
       "Local_Authority_(District)    0\n",
       "Longitude                     0\n",
       "Number_of_Casualties          0\n",
       "Number_of_Vehicles            0\n",
       "Police_Force                  0\n",
       "Road_Surface_Conditions       0\n",
       "Road_Type                     0\n",
       "Speed_limit                   0\n",
       "Time                          0\n",
       "Urban_or_Rural_Area           0\n",
       "Weather_Conditions            0\n",
       "Vehicle_Type                  0\n",
       "dtype: int64"
      ]
     },
     "execution_count": 10,
     "metadata": {},
     "output_type": "execute_result"
    }
   ],
   "source": [
    "df.isnull().sum()"
   ]
  },
  {
   "cell_type": "code",
   "execution_count": 11,
   "id": "bb96117a",
   "metadata": {},
   "outputs": [
    {
     "name": "stdout",
     "output_type": "stream",
     "text": [
      "Month\n",
      "['April' 'August' 'December' 'February' 'January' 'July' 'June' 'March'\n",
      " 'May' 'November' 'October' 'September']\n",
      "\n",
      "\n",
      "Year\n",
      "[2021]\n",
      "\n",
      "\n",
      "Day_of_Week\n",
      "['Friday' 'Monday' 'Saturday' 'Sunday' 'Thursday' 'Tuesday' 'Wednesday']\n",
      "\n",
      "\n",
      "Junction_Control\n",
      "['Authorised person' 'Auto traffic signal' 'Data missing or out of range'\n",
      " 'Give way or uncontrolled' 'Stop sign']\n",
      "\n",
      "\n",
      "Junction_Detail\n",
      "['Crossroads' 'Mini-roundabout' 'More than 4 arms (not roundabout)'\n",
      " 'Not at junction or within 20 metres' 'Other junction'\n",
      " 'Private drive or entrance' 'Roundabout' 'Slip road'\n",
      " 'T or staggered junction']\n",
      "\n",
      "\n",
      "Accident_Severity\n",
      "['Fatal' 'Serious' 'Slight']\n",
      "\n",
      "\n",
      "Latitude\n",
      "[51.298189 51.300312 51.308357 ... 51.642463 51.643466 51.645885]\n",
      "\n",
      "\n",
      "Light_Conditions\n",
      "['Darkness - lighting unknown' 'Darkness - lights lit'\n",
      " 'Darkness - lights unlit' 'Darkness - no lighting' 'Daylight']\n",
      "\n",
      "\n",
      "Local_Authority_(District)\n",
      "['Barking and Dagenham' 'Barnet' 'Bexley' 'Brent' 'Bromley' 'Camden'\n",
      " 'City of London' 'Croydon' 'Ealing' 'Greenwich' 'Hackney'\n",
      " 'Hammersmith and Fulham' 'Haringey' 'Harrow' 'Havering' 'Hillingdon'\n",
      " 'Hounslow' 'Islington' 'Kensington and Chelsea' 'Lambeth' 'Lewisham'\n",
      " 'London Airport (Heathrow)' 'Newham' 'Redbridge' 'Southwark'\n",
      " 'Tower Hamlets' 'Waltham Forest' 'Wandsworth' 'Westminster']\n",
      "\n",
      "\n",
      "Longitude\n",
      "[-0.507015 -0.494753 -0.494736 ...  0.294745  0.294958  0.29774 ]\n",
      "\n",
      "\n",
      "Number_of_Casualties\n",
      "[ 1  2  3  4  5  6  8 10 11]\n",
      "\n",
      "\n",
      "Number_of_Vehicles\n",
      "[1 2 3 4 5 6 7 8 9]\n",
      "\n",
      "\n",
      "Police_Force\n",
      "['City of London' 'Metropolitan Police']\n",
      "\n",
      "\n",
      "Road_Surface_Conditions\n",
      "['Dry' 'Flood over 3cm. deep' 'Frost or ice' 'Snow' 'Wet or damp']\n",
      "\n",
      "\n",
      "Road_Type\n",
      "['Dual carriageway' 'One way street' 'Roundabout' 'Single carriageway'\n",
      " 'Slip road']\n",
      "\n",
      "\n",
      "Speed_limit\n",
      "[20 30 40 50 60 70]\n",
      "\n",
      "\n",
      "Time\n",
      "['0:01' '0:02' '0:03' ... '9:57' '9:58' '9:59']\n",
      "\n",
      "\n",
      "Urban_or_Rural_Area\n",
      "['Rural' 'Urban']\n",
      "\n",
      "\n",
      "Weather_Conditions\n",
      "['Fine + high winds' 'Fine no high winds' 'Fog or mist' 'Other'\n",
      " 'Raining + high winds' 'Raining no high winds' 'Snowing + high winds'\n",
      " 'Snowing no high winds']\n",
      "\n",
      "\n",
      "Vehicle_Type\n",
      "['Agricultural vehicle' 'Bus or coach (17 or more pass seats)' 'Car'\n",
      " 'Goods 7.5 tonnes mgw and over' 'Goods over 3.5t. and under 7.5t'\n",
      " 'Minibus (8 - 16 passenger seats)' 'Motorcycle 125cc and under'\n",
      " 'Motorcycle 50cc and under' 'Motorcycle over 125cc and up to 500cc'\n",
      " 'Motorcycle over 500cc' 'Other vehicle' 'Pedal cycle'\n",
      " 'Taxi/Private hire car' 'Van / Goods 3.5 tonnes mgw or under']\n",
      "\n",
      "\n"
     ]
    }
   ],
   "source": [
    "for i in df.columns:\n",
    "    print(i,df[i].sort_values().unique(),\"\\n\",sep = \"\\n\")"
   ]
  },
  {
   "cell_type": "code",
   "execution_count": 12,
   "id": "f7ed80c5",
   "metadata": {},
   "outputs": [],
   "source": [
    "df[\"Weather_Conditions\"] = df[\"Weather_Conditions\"].str.replace(\"+\", \"and\")\n"
   ]
  },
  {
   "cell_type": "markdown",
   "id": "fce255aa",
   "metadata": {},
   "source": [
    "# Exploratory Data Analysis"
   ]
  },
  {
   "cell_type": "code",
   "execution_count": 13,
   "id": "f8368350",
   "metadata": {},
   "outputs": [
    {
     "data": {
      "text/plain": [
       "Index(['Month', 'Year', 'Day_of_Week', 'Junction_Control', 'Junction_Detail',\n",
       "       'Accident_Severity', 'Latitude', 'Light_Conditions',\n",
       "       'Local_Authority_(District)', 'Longitude', 'Number_of_Casualties',\n",
       "       'Number_of_Vehicles', 'Police_Force', 'Road_Surface_Conditions',\n",
       "       'Road_Type', 'Speed_limit', 'Time', 'Urban_or_Rural_Area',\n",
       "       'Weather_Conditions', 'Vehicle_Type'],\n",
       "      dtype='object')"
      ]
     },
     "execution_count": 13,
     "metadata": {},
     "output_type": "execute_result"
    }
   ],
   "source": [
    "df.columns"
   ]
  },
  {
   "cell_type": "markdown",
   "id": "68ce2b8a",
   "metadata": {},
   "source": [
    "# Number of Accident Seriverity Level "
   ]
  },
  {
   "cell_type": "code",
   "execution_count": 14,
   "id": "587e989c",
   "metadata": {},
   "outputs": [
    {
     "data": {
      "image/png": "[encoded data removed]",
      "text/plain": [
       "<Figure size 640x480 with 1 Axes>"
      ]
     },
     "metadata": {},
     "output_type": "display_data"
    }
   ],
   "source": [
    "ax = sns.countplot(x='Accident_Severity', data=df)\n",
    "total = len(df)\n",
    "for p in ax.patches:\n",
    "    percentage = '{:.1f}%'.format(100 * p.get_height() / total)\n",
    "    x = p.get_x() + p.get_width() / 2\n",
    "    y = p.get_height()\n",
    "    ax.annotate(percentage, (x, y), ha='center', va='bottom')\n",
    "ax.set_xlabel('Accident Severity')\n",
    "ax.set_ylabel('Count')\n",
    "ax.set_title('Distribution of Accident Severity Levels (Percentage)')\n",
    "\n",
    "plt.show()\n"
   ]
  },
  {
   "cell_type": "markdown",
   "id": "48a4954d",
   "metadata": {},
   "source": [
    "Number of Slight  cases  is very high approx 85.5%  and Fatal approx 1.3%"
   ]
  },
  {
   "cell_type": "raw",
   "id": "275fb529",
   "metadata": {},
   "source": [
    "slight means minor injuries or damage in accident \n",
    "Serious means cause severe injuries or significant damage in accident \n",
    "Fatal means loss of human life in accident "
   ]
  },
  {
   "cell_type": "markdown",
   "id": "b42d430a",
   "metadata": {},
   "source": [
    "# Number of accident severity according to speed_limit"
   ]
  },
  {
   "cell_type": "code",
   "execution_count": 15,
   "id": "bce0cc41",
   "metadata": {},
   "outputs": [
    {
     "data": {
      "text/plain": [
       "Text(0.5, 1.0, 'Count of Accident Severity by Speed Limit')"
      ]
     },
     "execution_count": 15,
     "metadata": {},
     "output_type": "execute_result"
    },
    {
     "data": {
      "image/png": "[encoded data removed]",
      "text/plain": [
       "<Figure size 1500x600 with 1 Axes>"
      ]
     },
     "metadata": {},
     "output_type": "display_data"
    }
   ],
   "source": [
    "plt.figure(figsize=(15, 6))\n",
    "ax = sns.countplot(data=df,x='Speed_limit',hue='Accident_Severity')\n",
    "\n",
    "for bars in ax.containers:\n",
    "    ax.bar_label(bars)    \n",
    "ax.set_title('Count of Accident Severity by Speed Limit')"
   ]
  },
  {
   "cell_type": "markdown",
   "id": "d0bb7392",
   "metadata": {},
   "source": [
    "Most number Fatal,serivous and slight  casses  are happend when speed_limit is   30 and 60   KMPH  \n"
   ]
  },
  {
   "cell_type": "markdown",
   "id": "ec2d9ebd",
   "metadata": {},
   "source": [
    "# Number of accident according to region(precentage)"
   ]
  },
  {
   "cell_type": "code",
   "execution_count": 16,
   "id": "ff2c77cf",
   "metadata": {},
   "outputs": [
    {
     "data": {
      "image/png": "[encoded data removed]",
      "text/plain": [
       "<Figure size 640x480 with 1 Axes>"
      ]
     },
     "metadata": {},
     "output_type": "display_data"
    }
   ],
   "source": [
    "urban_rural_counts = df['Urban_or_Rural_Area'].value_counts()\n",
    "\n",
    "plt.pie(urban_rural_counts, labels=urban_rural_counts.index, autopct='%1.1f%%')\n",
    "plt.title('Distribution of Urban and Rural Areas')\n",
    "\n",
    "plt.show()"
   ]
  },
  {
   "cell_type": "markdown",
   "id": "226dcd56",
   "metadata": {},
   "source": [
    "Urban Area is the greater Count of accident as compare to rural"
   ]
  },
  {
   "cell_type": "markdown",
   "id": "396c5191",
   "metadata": {},
   "source": [
    "# Count of Accident Severity by Region"
   ]
  },
  {
   "cell_type": "code",
   "execution_count": 17,
   "id": "3bfa349c",
   "metadata": {},
   "outputs": [
    {
     "data": {
      "text/plain": [
       "Text(0.5, 1.0, 'Count of Accident Severity by Region')"
      ]
     },
     "execution_count": 17,
     "metadata": {},
     "output_type": "execute_result"
    },
    {
     "data": {
      "image/png": "[encoded data removed]",
      "text/plain": [
       "<Figure size 1500x600 with 1 Axes>"
      ]
     },
     "metadata": {},
     "output_type": "display_data"
    }
   ],
   "source": [
    "plt.figure(figsize=(15, 6))\n",
    "ax = sns.countplot(data=df,x='Accident_Severity',hue='Urban_or_Rural_Area')\n",
    "\n",
    "for bars in ax.containers:\n",
    "    ax.bar_label(bars)    \n",
    "ax.set_title('Count of Accident Severity by Region')"
   ]
  },
  {
   "cell_type": "markdown",
   "id": "88a27d6e",
   "metadata": {},
   "source": [
    "Most of The Fatal Type of cases are hapend in rural areas"
   ]
  },
  {
   "cell_type": "markdown",
   "id": "d66173b7",
   "metadata": {},
   "source": [
    "# number of accidents over different years"
   ]
  },
  {
   "cell_type": "code",
   "execution_count": 18,
   "id": "fa5f2f0d",
   "metadata": {},
   "outputs": [],
   "source": [
    "monthly_counts=df.groupby([\"Year\",\"Month\"]).size().reset_index(name=\"Count\")"
   ]
  },
  {
   "cell_type": "code",
   "execution_count": 19,
   "id": "58f46409",
   "metadata": {},
   "outputs": [
    {
     "ename": "OptionError",
     "evalue": "\"No such keys(s): 'mode.use_inf_as_null'\"",
     "output_type": "error",
     "traceback": [
      "\u001b[1;31m---------------------------------------------------------------------------\u001b[0m",
      "\u001b[1;31mOptionError\u001b[0m                               Traceback (most recent call last)",
      "\u001b[1;32m~\\AppData\\Local\\Temp\\ipykernel_10820\\1685766598.py\u001b[0m in \u001b[0;36m<module>\u001b[1;34m\u001b[0m\n\u001b[0;32m      1\u001b[0m \u001b[0mplt\u001b[0m\u001b[1;33m.\u001b[0m\u001b[0mfigure\u001b[0m\u001b[1;33m(\u001b[0m\u001b[0mfigsize\u001b[0m\u001b[1;33m=\u001b[0m\u001b[1;33m(\u001b[0m\u001b[1;36m12\u001b[0m\u001b[1;33m,\u001b[0m\u001b[1;36m6\u001b[0m\u001b[1;33m)\u001b[0m\u001b[1;33m)\u001b[0m\u001b[1;33m\u001b[0m\u001b[1;33m\u001b[0m\u001b[0m\n\u001b[1;32m----> 2\u001b[1;33m \u001b[0msns\u001b[0m\u001b[1;33m.\u001b[0m\u001b[0mlineplot\u001b[0m\u001b[1;33m(\u001b[0m\u001b[0mdata\u001b[0m\u001b[1;33m=\u001b[0m\u001b[0mmonthly_counts\u001b[0m\u001b[1;33m,\u001b[0m\u001b[0mx\u001b[0m\u001b[1;33m=\u001b[0m\u001b[1;34m\"Month\"\u001b[0m\u001b[1;33m,\u001b[0m\u001b[0my\u001b[0m\u001b[1;33m=\u001b[0m\u001b[1;34m\"Count\"\u001b[0m\u001b[1;33m,\u001b[0m\u001b[0mhue\u001b[0m\u001b[1;33m=\u001b[0m\u001b[1;34m\"Year\"\u001b[0m\u001b[1;33m,\u001b[0m\u001b[0mmarker\u001b[0m\u001b[1;33m=\u001b[0m\u001b[1;34m\"o\"\u001b[0m\u001b[1;33m)\u001b[0m\u001b[1;33m\u001b[0m\u001b[1;33m\u001b[0m\u001b[0m\n\u001b[0m\u001b[0;32m      3\u001b[0m \u001b[0mplt\u001b[0m\u001b[1;33m.\u001b[0m\u001b[0mtitle\u001b[0m\u001b[1;33m(\u001b[0m\u001b[1;34m\"Distribution of accident Month by Year\"\u001b[0m\u001b[1;33m)\u001b[0m\u001b[1;33m\u001b[0m\u001b[1;33m\u001b[0m\u001b[0m\n",
      "\u001b[1;32m~\\anaconda3\\lib\\site-packages\\seaborn\\_decorators.py\u001b[0m in \u001b[0;36minner_f\u001b[1;34m(*args, **kwargs)\u001b[0m\n\u001b[0;32m     44\u001b[0m             )\n\u001b[0;32m     45\u001b[0m         \u001b[0mkwargs\u001b[0m\u001b[1;33m.\u001b[0m\u001b[0mupdate\u001b[0m\u001b[1;33m(\u001b[0m\u001b[1;33m{\u001b[0m\u001b[0mk\u001b[0m\u001b[1;33m:\u001b[0m \u001b[0marg\u001b[0m \u001b[1;32mfor\u001b[0m \u001b[0mk\u001b[0m\u001b[1;33m,\u001b[0m \u001b[0marg\u001b[0m \u001b[1;32min\u001b[0m \u001b[0mzip\u001b[0m\u001b[1;33m(\u001b[0m\u001b[0msig\u001b[0m\u001b[1;33m.\u001b[0m\u001b[0mparameters\u001b[0m\u001b[1;33m,\u001b[0m \u001b[0margs\u001b[0m\u001b[1;33m)\u001b[0m\u001b[1;33m}\u001b[0m\u001b[1;33m)\u001b[0m\u001b[1;33m\u001b[0m\u001b[1;33m\u001b[0m\u001b[0m\n\u001b[1;32m---> 46\u001b[1;33m         \u001b[1;32mreturn\u001b[0m \u001b[0mf\u001b[0m\u001b[1;33m(\u001b[0m\u001b[1;33m**\u001b[0m\u001b[0mkwargs\u001b[0m\u001b[1;33m)\u001b[0m\u001b[1;33m\u001b[0m\u001b[1;33m\u001b[0m\u001b[0m\n\u001b[0m\u001b[0;32m     47\u001b[0m     \u001b[1;32mreturn\u001b[0m \u001b[0minner_f\u001b[0m\u001b[1;33m\u001b[0m\u001b[1;33m\u001b[0m\u001b[0m\n\u001b[0;32m     48\u001b[0m \u001b[1;33m\u001b[0m\u001b[0m\n",
      "\u001b[1;32m~\\anaconda3\\lib\\site-packages\\seaborn\\relational.py\u001b[0m in \u001b[0;36mlineplot\u001b[1;34m(x, y, hue, size, style, data, palette, hue_order, hue_norm, sizes, size_order, size_norm, dashes, markers, style_order, units, estimator, ci, n_boot, seed, sort, err_style, err_kws, legend, ax, **kwargs)\u001b[0m\n\u001b[0;32m    708\u001b[0m     \u001b[0mp\u001b[0m\u001b[1;33m.\u001b[0m\u001b[0m_attach\u001b[0m\u001b[1;33m(\u001b[0m\u001b[0max\u001b[0m\u001b[1;33m)\u001b[0m\u001b[1;33m\u001b[0m\u001b[1;33m\u001b[0m\u001b[0m\n\u001b[0;32m    709\u001b[0m \u001b[1;33m\u001b[0m\u001b[0m\n\u001b[1;32m--> 710\u001b[1;33m     \u001b[0mp\u001b[0m\u001b[1;33m.\u001b[0m\u001b[0mplot\u001b[0m\u001b[1;33m(\u001b[0m\u001b[0max\u001b[0m\u001b[1;33m,\u001b[0m \u001b[0mkwargs\u001b[0m\u001b[1;33m)\u001b[0m\u001b[1;33m\u001b[0m\u001b[1;33m\u001b[0m\u001b[0m\n\u001b[0m\u001b[0;32m    711\u001b[0m     \u001b[1;32mreturn\u001b[0m \u001b[0max\u001b[0m\u001b[1;33m\u001b[0m\u001b[1;33m\u001b[0m\u001b[0m\n\u001b[0;32m    712\u001b[0m \u001b[1;33m\u001b[0m\u001b[0m\n",
      "\u001b[1;32m~\\anaconda3\\lib\\site-packages\\seaborn\\relational.py\u001b[0m in \u001b[0;36mplot\u001b[1;34m(self, ax, kws)\u001b[0m\n\u001b[0;32m    469\u001b[0m         \u001b[1;31m# Loop over the semantic subsets and add to the plot\u001b[0m\u001b[1;33m\u001b[0m\u001b[1;33m\u001b[0m\u001b[0m\n\u001b[0;32m    470\u001b[0m         \u001b[0mgrouping_vars\u001b[0m \u001b[1;33m=\u001b[0m \u001b[1;34m\"hue\"\u001b[0m\u001b[1;33m,\u001b[0m \u001b[1;34m\"size\"\u001b[0m\u001b[1;33m,\u001b[0m \u001b[1;34m\"style\"\u001b[0m\u001b[1;33m\u001b[0m\u001b[1;33m\u001b[0m\u001b[0m\n\u001b[1;32m--> 471\u001b[1;33m         \u001b[1;32mfor\u001b[0m \u001b[0msub_vars\u001b[0m\u001b[1;33m,\u001b[0m \u001b[0msub_data\u001b[0m \u001b[1;32min\u001b[0m \u001b[0mself\u001b[0m\u001b[1;33m.\u001b[0m\u001b[0miter_data\u001b[0m\u001b[1;33m(\u001b[0m\u001b[0mgrouping_vars\u001b[0m\u001b[1;33m,\u001b[0m \u001b[0mfrom_comp_data\u001b[0m\u001b[1;33m=\u001b[0m\u001b[1;32mTrue\u001b[0m\u001b[1;33m)\u001b[0m\u001b[1;33m:\u001b[0m\u001b[1;33m\u001b[0m\u001b[1;33m\u001b[0m\u001b[0m\n\u001b[0m\u001b[0;32m    472\u001b[0m \u001b[1;33m\u001b[0m\u001b[0m\n\u001b[0;32m    473\u001b[0m             \u001b[1;32mif\u001b[0m \u001b[0mself\u001b[0m\u001b[1;33m.\u001b[0m\u001b[0msort\u001b[0m\u001b[1;33m:\u001b[0m\u001b[1;33m\u001b[0m\u001b[1;33m\u001b[0m\u001b[0m\n",
      "\u001b[1;32m~\\anaconda3\\lib\\site-packages\\seaborn\\_core.py\u001b[0m in \u001b[0;36miter_data\u001b[1;34m(self, grouping_vars, reverse, from_comp_data)\u001b[0m\n\u001b[0;32m    981\u001b[0m \u001b[1;33m\u001b[0m\u001b[0m\n\u001b[0;32m    982\u001b[0m         \u001b[1;32mif\u001b[0m \u001b[0mfrom_comp_data\u001b[0m\u001b[1;33m:\u001b[0m\u001b[1;33m\u001b[0m\u001b[1;33m\u001b[0m\u001b[0m\n\u001b[1;32m--> 983\u001b[1;33m             \u001b[0mdata\u001b[0m \u001b[1;33m=\u001b[0m \u001b[0mself\u001b[0m\u001b[1;33m.\u001b[0m\u001b[0mcomp_data\u001b[0m\u001b[1;33m\u001b[0m\u001b[1;33m\u001b[0m\u001b[0m\n\u001b[0m\u001b[0;32m    984\u001b[0m         \u001b[1;32melse\u001b[0m\u001b[1;33m:\u001b[0m\u001b[1;33m\u001b[0m\u001b[1;33m\u001b[0m\u001b[0m\n\u001b[0;32m    985\u001b[0m             \u001b[0mdata\u001b[0m \u001b[1;33m=\u001b[0m \u001b[0mself\u001b[0m\u001b[1;33m.\u001b[0m\u001b[0mplot_data\u001b[0m\u001b[1;33m\u001b[0m\u001b[1;33m\u001b[0m\u001b[0m\n",
      "\u001b[1;32m~\\anaconda3\\lib\\site-packages\\seaborn\\_core.py\u001b[0m in \u001b[0;36mcomp_data\u001b[1;34m(self)\u001b[0m\n\u001b[0;32m   1052\u001b[0m                 \u001b[1;31m# Use the converter assigned to the axis to get a float representation\u001b[0m\u001b[1;33m\u001b[0m\u001b[1;33m\u001b[0m\u001b[0m\n\u001b[0;32m   1053\u001b[0m                 \u001b[1;31m# of the data, passing np.nan or pd.NA through (pd.NA becomes np.nan)\u001b[0m\u001b[1;33m\u001b[0m\u001b[1;33m\u001b[0m\u001b[0m\n\u001b[1;32m-> 1054\u001b[1;33m                 \u001b[1;32mwith\u001b[0m \u001b[0mpd\u001b[0m\u001b[1;33m.\u001b[0m\u001b[0moption_context\u001b[0m\u001b[1;33m(\u001b[0m\u001b[1;34m'mode.use_inf_as_null'\u001b[0m\u001b[1;33m,\u001b[0m \u001b[1;32mTrue\u001b[0m\u001b[1;33m)\u001b[0m\u001b[1;33m:\u001b[0m\u001b[1;33m\u001b[0m\u001b[1;33m\u001b[0m\u001b[0m\n\u001b[0m\u001b[0;32m   1055\u001b[0m                     \u001b[0morig\u001b[0m \u001b[1;33m=\u001b[0m \u001b[0mself\u001b[0m\u001b[1;33m.\u001b[0m\u001b[0mplot_data\u001b[0m\u001b[1;33m[\u001b[0m\u001b[0mvar\u001b[0m\u001b[1;33m]\u001b[0m\u001b[1;33m.\u001b[0m\u001b[0mdropna\u001b[0m\u001b[1;33m(\u001b[0m\u001b[1;33m)\u001b[0m\u001b[1;33m\u001b[0m\u001b[1;33m\u001b[0m\u001b[0m\n\u001b[0;32m   1056\u001b[0m                 \u001b[0mcomp_col\u001b[0m \u001b[1;33m=\u001b[0m \u001b[0mpd\u001b[0m\u001b[1;33m.\u001b[0m\u001b[0mSeries\u001b[0m\u001b[1;33m(\u001b[0m\u001b[0mindex\u001b[0m\u001b[1;33m=\u001b[0m\u001b[0morig\u001b[0m\u001b[1;33m.\u001b[0m\u001b[0mindex\u001b[0m\u001b[1;33m,\u001b[0m \u001b[0mdtype\u001b[0m\u001b[1;33m=\u001b[0m\u001b[0mfloat\u001b[0m\u001b[1;33m,\u001b[0m \u001b[0mname\u001b[0m\u001b[1;33m=\u001b[0m\u001b[0mvar\u001b[0m\u001b[1;33m)\u001b[0m\u001b[1;33m\u001b[0m\u001b[1;33m\u001b[0m\u001b[0m\n",
      "\u001b[1;32m~\\anaconda3\\lib\\site-packages\\pandas\\_config\\config.py\u001b[0m in \u001b[0;36m__enter__\u001b[1;34m(self)\u001b[0m\n\u001b[0;32m    439\u001b[0m \u001b[1;33m\u001b[0m\u001b[0m\n\u001b[0;32m    440\u001b[0m     \u001b[1;32mdef\u001b[0m \u001b[0m__enter__\u001b[0m\u001b[1;33m(\u001b[0m\u001b[0mself\u001b[0m\u001b[1;33m)\u001b[0m \u001b[1;33m->\u001b[0m \u001b[1;32mNone\u001b[0m\u001b[1;33m:\u001b[0m\u001b[1;33m\u001b[0m\u001b[1;33m\u001b[0m\u001b[0m\n\u001b[1;32m--> 441\u001b[1;33m         \u001b[0mself\u001b[0m\u001b[1;33m.\u001b[0m\u001b[0mundo\u001b[0m \u001b[1;33m=\u001b[0m \u001b[1;33m[\u001b[0m\u001b[1;33m(\u001b[0m\u001b[0mpat\u001b[0m\u001b[1;33m,\u001b[0m \u001b[0m_get_option\u001b[0m\u001b[1;33m(\u001b[0m\u001b[0mpat\u001b[0m\u001b[1;33m,\u001b[0m \u001b[0msilent\u001b[0m\u001b[1;33m=\u001b[0m\u001b[1;32mTrue\u001b[0m\u001b[1;33m)\u001b[0m\u001b[1;33m)\u001b[0m \u001b[1;32mfor\u001b[0m \u001b[0mpat\u001b[0m\u001b[1;33m,\u001b[0m \u001b[0mval\u001b[0m \u001b[1;32min\u001b[0m \u001b[0mself\u001b[0m\u001b[1;33m.\u001b[0m\u001b[0mops\u001b[0m\u001b[1;33m]\u001b[0m\u001b[1;33m\u001b[0m\u001b[1;33m\u001b[0m\u001b[0m\n\u001b[0m\u001b[0;32m    442\u001b[0m \u001b[1;33m\u001b[0m\u001b[0m\n\u001b[0;32m    443\u001b[0m         \u001b[1;32mfor\u001b[0m \u001b[0mpat\u001b[0m\u001b[1;33m,\u001b[0m \u001b[0mval\u001b[0m \u001b[1;32min\u001b[0m \u001b[0mself\u001b[0m\u001b[1;33m.\u001b[0m\u001b[0mops\u001b[0m\u001b[1;33m:\u001b[0m\u001b[1;33m\u001b[0m\u001b[1;33m\u001b[0m\u001b[0m\n",
      "\u001b[1;32m~\\anaconda3\\lib\\site-packages\\pandas\\_config\\config.py\u001b[0m in \u001b[0;36m<listcomp>\u001b[1;34m(.0)\u001b[0m\n\u001b[0;32m    439\u001b[0m \u001b[1;33m\u001b[0m\u001b[0m\n\u001b[0;32m    440\u001b[0m     \u001b[1;32mdef\u001b[0m \u001b[0m__enter__\u001b[0m\u001b[1;33m(\u001b[0m\u001b[0mself\u001b[0m\u001b[1;33m)\u001b[0m \u001b[1;33m->\u001b[0m \u001b[1;32mNone\u001b[0m\u001b[1;33m:\u001b[0m\u001b[1;33m\u001b[0m\u001b[1;33m\u001b[0m\u001b[0m\n\u001b[1;32m--> 441\u001b[1;33m         \u001b[0mself\u001b[0m\u001b[1;33m.\u001b[0m\u001b[0mundo\u001b[0m \u001b[1;33m=\u001b[0m \u001b[1;33m[\u001b[0m\u001b[1;33m(\u001b[0m\u001b[0mpat\u001b[0m\u001b[1;33m,\u001b[0m \u001b[0m_get_option\u001b[0m\u001b[1;33m(\u001b[0m\u001b[0mpat\u001b[0m\u001b[1;33m,\u001b[0m \u001b[0msilent\u001b[0m\u001b[1;33m=\u001b[0m\u001b[1;32mTrue\u001b[0m\u001b[1;33m)\u001b[0m\u001b[1;33m)\u001b[0m \u001b[1;32mfor\u001b[0m \u001b[0mpat\u001b[0m\u001b[1;33m,\u001b[0m \u001b[0mval\u001b[0m \u001b[1;32min\u001b[0m \u001b[0mself\u001b[0m\u001b[1;33m.\u001b[0m\u001b[0mops\u001b[0m\u001b[1;33m]\u001b[0m\u001b[1;33m\u001b[0m\u001b[1;33m\u001b[0m\u001b[0m\n\u001b[0m\u001b[0;32m    442\u001b[0m \u001b[1;33m\u001b[0m\u001b[0m\n\u001b[0;32m    443\u001b[0m         \u001b[1;32mfor\u001b[0m \u001b[0mpat\u001b[0m\u001b[1;33m,\u001b[0m \u001b[0mval\u001b[0m \u001b[1;32min\u001b[0m \u001b[0mself\u001b[0m\u001b[1;33m.\u001b[0m\u001b[0mops\u001b[0m\u001b[1;33m:\u001b[0m\u001b[1;33m\u001b[0m\u001b[1;33m\u001b[0m\u001b[0m\n",
      "\u001b[1;32m~\\anaconda3\\lib\\site-packages\\pandas\\_config\\config.py\u001b[0m in \u001b[0;36m_get_option\u001b[1;34m(pat, silent)\u001b[0m\n\u001b[0;32m    133\u001b[0m \u001b[1;33m\u001b[0m\u001b[0m\n\u001b[0;32m    134\u001b[0m \u001b[1;32mdef\u001b[0m \u001b[0m_get_option\u001b[0m\u001b[1;33m(\u001b[0m\u001b[0mpat\u001b[0m\u001b[1;33m:\u001b[0m \u001b[0mstr\u001b[0m\u001b[1;33m,\u001b[0m \u001b[0msilent\u001b[0m\u001b[1;33m:\u001b[0m \u001b[0mbool\u001b[0m \u001b[1;33m=\u001b[0m \u001b[1;32mFalse\u001b[0m\u001b[1;33m)\u001b[0m \u001b[1;33m->\u001b[0m \u001b[0mAny\u001b[0m\u001b[1;33m:\u001b[0m\u001b[1;33m\u001b[0m\u001b[1;33m\u001b[0m\u001b[0m\n\u001b[1;32m--> 135\u001b[1;33m     \u001b[0mkey\u001b[0m \u001b[1;33m=\u001b[0m \u001b[0m_get_single_key\u001b[0m\u001b[1;33m(\u001b[0m\u001b[0mpat\u001b[0m\u001b[1;33m,\u001b[0m \u001b[0msilent\u001b[0m\u001b[1;33m)\u001b[0m\u001b[1;33m\u001b[0m\u001b[1;33m\u001b[0m\u001b[0m\n\u001b[0m\u001b[0;32m    136\u001b[0m \u001b[1;33m\u001b[0m\u001b[0m\n\u001b[0;32m    137\u001b[0m     \u001b[1;31m# walk the nested dict\u001b[0m\u001b[1;33m\u001b[0m\u001b[1;33m\u001b[0m\u001b[0m\n",
      "\u001b[1;32m~\\anaconda3\\lib\\site-packages\\pandas\\_config\\config.py\u001b[0m in \u001b[0;36m_get_single_key\u001b[1;34m(pat, silent)\u001b[0m\n\u001b[0;32m    119\u001b[0m         \u001b[1;32mif\u001b[0m \u001b[1;32mnot\u001b[0m \u001b[0msilent\u001b[0m\u001b[1;33m:\u001b[0m\u001b[1;33m\u001b[0m\u001b[1;33m\u001b[0m\u001b[0m\n\u001b[0;32m    120\u001b[0m             \u001b[0m_warn_if_deprecated\u001b[0m\u001b[1;33m(\u001b[0m\u001b[0mpat\u001b[0m\u001b[1;33m)\u001b[0m\u001b[1;33m\u001b[0m\u001b[1;33m\u001b[0m\u001b[0m\n\u001b[1;32m--> 121\u001b[1;33m         \u001b[1;32mraise\u001b[0m \u001b[0mOptionError\u001b[0m\u001b[1;33m(\u001b[0m\u001b[1;34mf\"No such keys(s): {repr(pat)}\"\u001b[0m\u001b[1;33m)\u001b[0m\u001b[1;33m\u001b[0m\u001b[1;33m\u001b[0m\u001b[0m\n\u001b[0m\u001b[0;32m    122\u001b[0m     \u001b[1;32mif\u001b[0m \u001b[0mlen\u001b[0m\u001b[1;33m(\u001b[0m\u001b[0mkeys\u001b[0m\u001b[1;33m)\u001b[0m \u001b[1;33m>\u001b[0m \u001b[1;36m1\u001b[0m\u001b[1;33m:\u001b[0m\u001b[1;33m\u001b[0m\u001b[1;33m\u001b[0m\u001b[0m\n\u001b[0;32m    123\u001b[0m         \u001b[1;32mraise\u001b[0m \u001b[0mOptionError\u001b[0m\u001b[1;33m(\u001b[0m\u001b[1;34m\"Pattern matched multiple keys\"\u001b[0m\u001b[1;33m)\u001b[0m\u001b[1;33m\u001b[0m\u001b[1;33m\u001b[0m\u001b[0m\n",
      "\u001b[1;31mOptionError\u001b[0m: \"No such keys(s): 'mode.use_inf_as_null'\""
     ]
    },
    {
     "data": {
      "image/png": "[encoded data removed]",
      "text/plain": [
       "<Figure size 1200x600 with 1 Axes>"
      ]
     },
     "metadata": {},
     "output_type": "display_data"
    }
   ],
   "source": [
    "plt.figure(figsize=(12,6))\n",
    "sns.lineplot(data=monthly_counts,x=\"Month\",y=\"Count\",hue=\"Year\",marker=\"o\")\n",
    "plt.title(\"Distribution of accident Month by Year\")"
   ]
  },
  {
   "cell_type": "markdown",
   "id": "2a382013",
   "metadata": {},
   "source": [
    "# correlation between the number of casualties and the number of vehicles involved in an accident"
   ]
  },
  {
   "cell_type": "code",
   "execution_count": null,
   "id": "0c57d09d",
   "metadata": {},
   "outputs": [],
   "source": [
    "plt.figure(figsize=(10, 6))\n",
    "plt.scatter( df['Number_of_Vehicles'], df['Number_of_Casualties'], alpha=0.5)\n",
    "plt.title('Number of Casualties vs Number of Vehicles')\n",
    "plt.grid(True)\n",
    "\n"
   ]
  },
  {
   "cell_type": "markdown",
   "id": "5838f005",
   "metadata": {},
   "source": [
    "# Count of Accident  by Vechicle_type"
   ]
  },
  {
   "cell_type": "code",
   "execution_count": null,
   "id": "5e7b60fe",
   "metadata": {},
   "outputs": [],
   "source": [
    "plt.figure(figsize=(15, 6))\n",
    "ax = sns.countplot(data=df, y='Vehicle_Type', order=df['Vehicle_Type'].value_counts().head(15).index)\n",
    "\n",
    "for bars in ax.containers:\n",
    "    ax.bar_label(bars)    \n",
    "ax.set_title('Count of Accident by Vechical_type')"
   ]
  },
  {
   "cell_type": "markdown",
   "id": "172e3686",
   "metadata": {},
   "source": [
    "# Total Number of Casualties by Vechical Type"
   ]
  },
  {
   "cell_type": "code",
   "execution_count": null,
   "id": "f7d0ac34",
   "metadata": {},
   "outputs": [],
   "source": [
    "plt.figure(figsize=(10, 6))\n",
    "total_cas=df.groupby([\"Vehicle_Type\"],as_index=False)[\"Number_of_Casualties\"].sum().sort_values(by=\"Number_of_Casualties\",ascending=False).head(15)\n",
    "ax=sns.barplot(x=\"Number_of_Casualties\", y=\"Vehicle_Type\", data=total_cas, orient=\"h\")\n",
    "plt.title('Total Number of Casualties by Vehicle Type')\n",
    "for bars in ax.containers:\n",
    "    ax.bar_label(bars) \n"
   ]
  },
  {
   "cell_type": "markdown",
   "id": "981a4c53",
   "metadata": {},
   "source": [
    "# identify any significant relationships between road characteristics (junction detail, speed limit, junction control) and accident severity"
   ]
  },
  {
   "cell_type": "code",
   "execution_count": null,
   "id": "04fe1873",
   "metadata": {},
   "outputs": [],
   "source": [
    "from scipy.stats import chi2_contingency\n",
    "contingency_table = pd.crosstab(index=df['Accident_Severity'], columns=[df['Junction_Detail'], df['Speed_limit'], df['Junction_Control']])\n",
    "chi2, p_value, dof, expected = chi2_contingency(contingency_table)\n",
    "print(\"Chi-square test statistic:\", chi2)\n",
    "print(\"p-value:\", p_value)\n",
    "print(\"Degrees of freedom:\", dof)\n"
   ]
  },
  {
   "cell_type": "markdown",
   "id": "423182bd",
   "metadata": {},
   "source": [
    "# Total Number of accident by Road Surface Conditions in different region"
   ]
  },
  {
   "cell_type": "code",
   "execution_count": null,
   "id": "52fa1d19",
   "metadata": {},
   "outputs": [],
   "source": [
    "ax=sns.countplot(x='Road_Surface_Conditions',data=df,hue='Urban_or_Rural_Area')\n",
    "plt.title('Total Number of accident by Road Surface Conditions ')\n",
    "for bars in ax.containers:\n",
    "    ax.bar_label(bars)"
   ]
  },
  {
   "cell_type": "markdown",
   "id": "ef0b76e8",
   "metadata": {},
   "source": [
    "# Total Number of accident by Light Conditions in different Accident_Severity"
   ]
  },
  {
   "cell_type": "code",
   "execution_count": null,
   "id": "be2c9b04",
   "metadata": {},
   "outputs": [],
   "source": [
    "plt.figure(figsize=(15, 6))\n",
    "ax=sns.countplot(x='Light_Conditions',data=df,hue=\"Accident_Severity\")\n",
    "plt.title('Total Number of accident by Light Conditions ')\n",
    "for bars in ax.containers:\n",
    "    ax.bar_label(bars) \n"
   ]
  },
  {
   "cell_type": "markdown",
   "id": "e2bc36ee",
   "metadata": {},
   "source": [
    "# Number_of_Casualties vary across different local authorities (districts)"
   ]
  },
  {
   "cell_type": "code",
   "execution_count": null,
   "id": "59016189",
   "metadata": {},
   "outputs": [],
   "source": [
    "plt.figure(figsize=(10, 6))\n",
    "total_cas=df.groupby([\"Local_Authority_(District)\"],as_index=False)[\"Number_of_Casualties\"].sum().sort_values(by=\"Number_of_Casualties\",ascending=False).head(10)\n",
    "ax=sns.barplot(x=\"Number_of_Casualties\", y=\"Local_Authority_(District)\", data=total_cas, orient=\"h\")\n",
    "plt.title('Total Number of Casualties by districts')\n",
    "for bars in ax.containers:\n",
    "    ax.bar_label(bars) "
   ]
  },
  {
   "cell_type": "markdown",
   "id": "791aa57c",
   "metadata": {},
   "source": [
    "# Are there specific times of the day when accidents are more likely to occur"
   ]
  },
  {
   "cell_type": "code",
   "execution_count": null,
   "id": "34692d95",
   "metadata": {
    "scrolled": false
   },
   "outputs": [],
   "source": [
    "ax = sns.countplot(x='Day_of_Week', data=df)"
   ]
  },
  {
   "cell_type": "code",
   "execution_count": null,
   "id": "cab62b18",
   "metadata": {
    "scrolled": false
   },
   "outputs": [],
   "source": [
    "df.columns"
   ]
  },
  {
   "cell_type": "markdown",
   "id": "6ff616e9",
   "metadata": {},
   "source": [
    "# Total Number of accident in different Junction_Control"
   ]
  },
  {
   "cell_type": "code",
   "execution_count": null,
   "id": "7aaf3aae",
   "metadata": {
    "scrolled": false
   },
   "outputs": [],
   "source": [
    "plt.figure(figsize=(15, 6))\n",
    "ax=sns.countplot(x='Junction_Control',data=df)\n",
    "plt.title('Total Number of accident in different Junction_Control ')\n",
    "for bars in ax.containers:\n",
    "    ax.bar_label(bars) "
   ]
  },
  {
   "cell_type": "markdown",
   "id": "634758ec",
   "metadata": {},
   "source": [
    "# Top 10 Total Number of accident in different police Force Control"
   ]
  },
  {
   "cell_type": "code",
   "execution_count": null,
   "id": "c7321bb3",
   "metadata": {},
   "outputs": [],
   "source": [
    "ax = sns.countplot(data=df, y='Police_Force', order=df['Police_Force'].value_counts().head(10).index)\n",
    "plt.title('Total Number of accident in different police Force Control ')\n",
    "for bars in ax.containers:\n",
    "    ax.bar_label(bars) "
   ]
  },
  {
   "cell_type": "markdown",
   "id": "61e39c35",
   "metadata": {},
   "source": [
    "# create the correlation heatmap"
   ]
  },
  {
   "cell_type": "code",
   "execution_count": null,
   "id": "70206aca",
   "metadata": {},
   "outputs": [],
   "source": [
    "numerical_cols = df.select_dtypes(include='number')\n",
    "correlation_matrix = numerical_cols.corr()\n",
    "plt.figure(figsize=(10, 8))\n",
    "sns.heatmap(correlation_matrix, annot=True, cmap='coolwarm')\n",
    "plt.title('Correlation Matrix Heatmap')\n",
    "plt.show()\n"
   ]
  },
  {
   "cell_type": "markdown",
   "id": "2e4ef2e3",
   "metadata": {},
   "source": [
    "# predict accident severity based on various factors such as weather conditions, road type, or vehicle type using machine learning"
   ]
  },
  {
   "cell_type": "code",
   "execution_count": null,
   "id": "7805a2cf",
   "metadata": {},
   "outputs": [],
   "source": [
    "from sklearn.model_selection import train_test_split\n",
    "from sklearn.ensemble import RandomForestClassifier\n",
    "from sklearn.metrics import classification_report\n",
    "from sklearn.preprocessing import LabelEncoder"
   ]
  },
  {
   "cell_type": "code",
   "execution_count": null,
   "id": "46c01def",
   "metadata": {},
   "outputs": [],
   "source": [
    "features = ['Weather_Conditions', 'Road_Type', 'Vehicle_Type',\"Urban_or_Rural_Area\",'Junction_Control']\n",
    "target = 'Accident_Severity'"
   ]
  },
  {
   "cell_type": "code",
   "execution_count": null,
   "id": "99ade90b",
   "metadata": {},
   "outputs": [],
   "source": [
    "label_encoder = LabelEncoder()"
   ]
  },
  {
   "cell_type": "code",
   "execution_count": null,
   "id": "271971b1",
   "metadata": {},
   "outputs": [],
   "source": [
    "for feature in features:\n",
    "    df[feature] = label_encoder.fit_transform(df[feature])"
   ]
  },
  {
   "cell_type": "code",
   "execution_count": null,
   "id": "40cbaf86",
   "metadata": {},
   "outputs": [],
   "source": [
    "X = df[features]\n",
    "y = df[target]"
   ]
  },
  {
   "cell_type": "code",
   "execution_count": null,
   "id": "6d0dd59a",
   "metadata": {},
   "outputs": [],
   "source": [
    "X_train, X_test, y_train, y_test = train_test_split(X, y, test_size=0.2, random_state=42)"
   ]
  },
  {
   "cell_type": "code",
   "execution_count": null,
   "id": "99c7e66f",
   "metadata": {},
   "outputs": [],
   "source": [
    "model = RandomForestClassifier()"
   ]
  },
  {
   "cell_type": "code",
   "execution_count": null,
   "id": "d2e1190c",
   "metadata": {},
   "outputs": [],
   "source": [
    "model.fit(X_train, y_train)"
   ]
  },
  {
   "cell_type": "code",
   "execution_count": null,
   "id": "5ea56dd5",
   "metadata": {},
   "outputs": [],
   "source": [
    "y_pred = model.predict(X_test)\n",
    "y_pred"
   ]
  },
  {
   "cell_type": "code",
   "execution_count": null,
   "id": "9b1b37ca",
   "metadata": {},
   "outputs": [],
   "source": [
    "report = classification_report(y_test, y_pred)\n",
    "print(report)"
   ]
  },
  {
   "cell_type": "code",
   "execution_count": null,
   "id": "9187d35f",
   "metadata": {},
   "outputs": [],
   "source": []
  }
 ],
 "metadata": {
  "kernelspec": {
   "display_name": "Python 3 (ipykernel)",
   "language": "python",
   "name": "python3"
  },
  "language_info": {
   "codemirror_mode": {
    "name": "ipython",
    "version": 3
   },
   "file_extension": ".py",
   "mimetype": "text/x-python",
   "name": "python",
   "nbconvert_exporter": "python",
   "pygments_lexer": "ipython3",
   "version": "3.9.13"
  }
 },
 "nbformat": 4,
 "nbformat_minor": 5
}
